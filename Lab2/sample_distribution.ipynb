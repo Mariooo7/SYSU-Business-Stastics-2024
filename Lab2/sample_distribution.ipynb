{
 "cells": [
  {
   "cell_type": "markdown",
   "source": [
    "# 抽样分布-S公司玩具公司如何确定订货量抽样分布"
   ],
   "metadata": {
    "collapsed": false
   }
  },
  {
   "cell_type": "markdown",
   "source": [
    "## （1）需求量近似服从的正态分布函数是什么？"
   ],
   "metadata": {
    "collapsed": false
   }
  },
  {
   "cell_type": "code",
   "execution_count": 10,
   "outputs": [
    {
     "name": "stdout",
     "output_type": "stream",
     "text": [
      "Requirement already satisfied: matplotlib in d:\\anaconda3\\lib\\site-packages (3.5.2)\n",
      "Requirement already satisfied: fonttools>=4.22.0 in d:\\anaconda3\\lib\\site-packages (from matplotlib) (4.25.0)\n",
      "Requirement already satisfied: pyparsing>=2.2.1 in d:\\anaconda3\\lib\\site-packages (from matplotlib) (3.0.9)\n",
      "Requirement already satisfied: numpy>=1.17 in d:\\anaconda3\\lib\\site-packages (from matplotlib) (1.24.4)\n",
      "Requirement already satisfied: packaging>=20.0 in d:\\anaconda3\\lib\\site-packages (from matplotlib) (21.3)\n",
      "Requirement already satisfied: pillow>=6.2.0 in d:\\anaconda3\\lib\\site-packages (from matplotlib) (9.5.0)\n",
      "Requirement already satisfied: kiwisolver>=1.0.1 in d:\\anaconda3\\lib\\site-packages (from matplotlib) (1.4.2)\n",
      "Requirement already satisfied: cycler>=0.10 in d:\\anaconda3\\lib\\site-packages (from matplotlib) (0.11.0)\n",
      "Requirement already satisfied: python-dateutil>=2.7 in d:\\anaconda3\\lib\\site-packages (from matplotlib) (2.8.2)\n",
      "Requirement already satisfied: six>=1.5 in d:\\anaconda3\\lib\\site-packages (from python-dateutil>=2.7->matplotlib) (1.16.0)\n",
      "Z分数:1.6449\n",
      "标准差:6079.5683\n",
      "因此需求量近似服从 均值为20000，标准差为 6079.5683 的正态分布概率密度函数\n"
     ]
    }
   ],
   "source": [
    "# 天气熊的需求量近似服从均值为20000只的正态分布，并且在10000只到30000只之间的概率为0.95\n",
    "from scipy.stats import norm\n",
    "import numpy as np\n",
    "!pip install matplotlib\n",
    "import matplotlib.pyplot as plt\n",
    "\n",
    "# 设置置信水平\n",
    "confidence_level = 0.95\n",
    "\n",
    "lower_bound = 10000\n",
    "upper_bound = 30000\n",
    "# 将样本均值估计为均值（mean)\n",
    "mean = 20000\n",
    "\n",
    "# 求Z分数\n",
    "z_score = norm.ppf(confidence_level)\n",
    "print(f\"Z分数:{z_score:.4f}\")\n",
    "\n",
    "# 求标准差\n",
    "sigma = (upper_bound - mean)/z_score\n",
    "print(f\"标准差:{sigma:.4f}\")\n",
    "print('因此需求量近似服从 均值为20000，标准差为',f'{sigma:.4f}', '的正态分布概率密度函数')\n"
   ],
   "metadata": {
    "collapsed": false
   }
  },
  {
   "cell_type": "markdown",
   "source": [],
   "metadata": {
    "collapsed": false
   }
  },
  {
   "cell_type": "code",
   "execution_count": 11,
   "outputs": [
    {
     "data": {
      "text/plain": "[<matplotlib.lines.Line2D at 0x222c3cc3970>]"
     },
     "execution_count": 11,
     "metadata": {},
     "output_type": "execute_result"
    },
    {
     "data": {
      "text/plain": "<Figure size 640x480 with 1 Axes>",
      "image/png": "[encoded data removed]"
     },
     "metadata": {},
     "output_type": "display_data"
    }
   ],
   "source": [
    "dist = norm(mean, sigma) # 创建正态分布对象\n",
    "x = np.linspace(dist.ppf(0.01), dist.ppf(0.99), 200) # 设置自变量x的范围\n",
    "y = norm.pdf(x, mean, sigma)\n",
    "plt.plot(x, y) # 绘制概率密度函数图像"
   ],
   "metadata": {
    "collapsed": false
   }
  },
  {
   "cell_type": "markdown",
   "source": [
    "## （2）公司管理团队成员所推荐的各种订货量的存货出清概率分别是多少？"
   ],
   "metadata": {
    "collapsed": false
   }
  },
  {
   "cell_type": "code",
   "execution_count": 12,
   "outputs": [
    {
     "name": "stdout",
     "output_type": "stream",
     "text": [
      "订货量分别为15000只、18000只、24000只和28000只时存货出清概率为: 0.2054,0.3711,0.7447,0.9059\n"
     ]
    }
   ],
   "source": [
    "D = [15000, 18000, 24000, 28000]\n",
    "print('订货量分别为15000只、18000只、24000只和28000只时存货出清概率为:', end = ' ')\n",
    "cdf_value = ','.join([f'{norm.cdf(d,mean, sigma):.4f}' for d in D])\n",
    "print(cdf_value)\n"
   ],
   "metadata": {
    "collapsed": false
   }
  },
  {
   "cell_type": "markdown",
   "source": [
    "## （3）S公司的一名经理认为，产品的潜在利润很高，因此建议订货应该以70%的概率保证满足市场需求，仅需以30%的概率出现脱销。根据该经理的建议，天气熊的订货量应该是多少？"
   ],
   "metadata": {
    "collapsed": false
   }
  },
  {
   "cell_type": "code",
   "execution_count": 13,
   "outputs": [
    {
     "name": "stdout",
     "output_type": "stream",
     "text": [
      "根据该经理的建议，天气熊的订货量应该是: 23188 只\n"
     ]
    }
   ],
   "source": [
    "confidence_level = 0.70\n",
    "z_score = norm.ppf(confidence_level)\n",
    "x = mean + z_score*sigma\n",
    "print(\"根据该经理的建议，天气熊的订货量应该是:\", round(x), \"只\")"
   ],
   "metadata": {
    "collapsed": false
   }
  },
  {
   "cell_type": "markdown",
   "source": [
    "\n",
    "## （4）关于最优订货量的建议可能各种各样。单周期库存模型可提供如何找到最优解决方案的建议。根据单周期库存模型，获得最大预期利润的订货量Q^*满足：P{Demand≤Q^*}=c_u/(c_u+c_o )，其中，P{Demand≤Q^*}为需求量Demand不大于订货量Q^*的概率，c_u为订货量少于需求量的单位损失（因缺货失去销售而造成损失），c_o为订货量超过需求量的单位损失（因未售出产生库存而造成损失）。根据单周期库存模型，天气熊的订货量应该是多少？"
   ],
   "metadata": {
    "collapsed": false
   }
  },
  {
   "cell_type": "code",
   "execution_count": 14,
   "outputs": [
    {
     "name": "stdout",
     "output_type": "stream",
     "text": [
      "天气熊的订货量应该是 18789 只\n"
     ]
    }
   ],
   "source": [
    "# 每个天气熊的成本为16元，S公司希望以24元的价格出售。如果节日过后仍有存货，S公司将以每只5元的价格清仓销售。\n",
    "c_u = 24 - 16\n",
    "c_o = 16 - 5\n",
    "P = c_u/(c_u + c_o)\n",
    "z_score = norm.ppf(P)\n",
    "Q = mean + z_score*sigma\n",
    "print('天气熊的订货量应该是', round(Q), '只')"
   ],
   "metadata": {
    "collapsed": false
   }
  }
 ],
 "metadata": {
  "kernelspec": {
   "display_name": "Python 3",
   "language": "python",
   "name": "python3"
  },
  "language_info": {
   "codemirror_mode": {
    "name": "ipython",
    "version": 2
   },
   "file_extension": ".py",
   "mimetype": "text/x-python",
   "name": "python",
   "nbconvert_exporter": "python",
   "pygments_lexer": "ipython2",
   "version": "2.7.6"
  }
 },
 "nbformat": 4,
 "nbformat_minor": 0
}
